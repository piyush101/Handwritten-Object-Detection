{
 "cells": [
  {
   "cell_type": "code",
   "execution_count": 141,
   "metadata": {},
   "outputs": [],
   "source": [
    "import keras\n",
    "import tensorflow\n",
    "import numpy as np\n",
    "import os\n",
    "import matplotlib\n",
    "from matplotlib import pyplot as plt\n",
    "import pandas as pd\n",
    "from scipy.misc import imread\n",
    "import sklearn\n",
    "% matplotlib inline"
   ]
  },
  {
   "cell_type": "code",
   "execution_count": 142,
   "metadata": {},
   "outputs": [],
   "source": [
    "seed=128\n",
    "rng=np.random.RandomState(seed)"
   ]
  },
  {
   "cell_type": "code",
   "execution_count": 143,
   "metadata": {},
   "outputs": [],
   "source": [
    "root_path=os.path.abspath(\"..\\..\")\n",
    "train_dir=os.path.join(root_path,r\"Users\\PIYUSH\\Downloads\")\n",
    "test_dir=os.path.join(root_path,r\"Users\\PIYUSH\\Downloads\")\n",
    "sub_dir=os.path.join(root_path,r\"Users\\PIYUSH\\Downloads\")"
   ]
  },
  {
   "cell_type": "code",
   "execution_count": 144,
   "metadata": {},
   "outputs": [
    {
     "data": {
      "text/plain": [
       "True"
      ]
     },
     "execution_count": 144,
     "metadata": {},
     "output_type": "execute_result"
    }
   ],
   "source": [
    "os.path.exists(test_dir)\n",
    "os.path.exists(train_dir)"
   ]
  },
  {
   "cell_type": "code",
   "execution_count": 145,
   "metadata": {},
   "outputs": [],
   "source": [
    "sub=pd.read_csv(os.path.join(sub_dir,'Sample.csv'))"
   ]
  },
  {
   "cell_type": "code",
   "execution_count": null,
   "metadata": {},
   "outputs": [],
   "source": []
  },
  {
   "cell_type": "code",
   "execution_count": 146,
   "metadata": {},
   "outputs": [],
   "source": [
    "train=pd.read_csv(os.path.join(train_dir,'train.csv'))"
   ]
  },
  {
   "cell_type": "code",
   "execution_count": 147,
   "metadata": {},
   "outputs": [
    {
     "data": {
      "text/html": [
       "<div>\n",
       "<style scoped>\n",
       "    .dataframe tbody tr th:only-of-type {\n",
       "        vertical-align: middle;\n",
       "    }\n",
       "\n",
       "    .dataframe tbody tr th {\n",
       "        vertical-align: top;\n",
       "    }\n",
       "\n",
       "    .dataframe thead th {\n",
       "        text-align: right;\n",
       "    }\n",
       "</style>\n",
       "<table border=\"1\" class=\"dataframe\">\n",
       "  <thead>\n",
       "    <tr style=\"text-align: right;\">\n",
       "      <th></th>\n",
       "      <th>filename</th>\n",
       "      <th>label</th>\n",
       "    </tr>\n",
       "  </thead>\n",
       "  <tbody>\n",
       "    <tr>\n",
       "      <th>0</th>\n",
       "      <td>0.png</td>\n",
       "      <td>4</td>\n",
       "    </tr>\n",
       "    <tr>\n",
       "      <th>1</th>\n",
       "      <td>1.png</td>\n",
       "      <td>9</td>\n",
       "    </tr>\n",
       "    <tr>\n",
       "      <th>2</th>\n",
       "      <td>2.png</td>\n",
       "      <td>1</td>\n",
       "    </tr>\n",
       "    <tr>\n",
       "      <th>3</th>\n",
       "      <td>3.png</td>\n",
       "      <td>7</td>\n",
       "    </tr>\n",
       "    <tr>\n",
       "      <th>4</th>\n",
       "      <td>4.png</td>\n",
       "      <td>3</td>\n",
       "    </tr>\n",
       "  </tbody>\n",
       "</table>\n",
       "</div>"
      ],
      "text/plain": [
       "  filename  label\n",
       "0    0.png      4\n",
       "1    1.png      9\n",
       "2    2.png      1\n",
       "3    3.png      7\n",
       "4    4.png      3"
      ]
     },
     "execution_count": 147,
     "metadata": {},
     "output_type": "execute_result"
    }
   ],
   "source": [
    "train.head()"
   ]
  },
  {
   "cell_type": "code",
   "execution_count": 148,
   "metadata": {},
   "outputs": [],
   "source": [
    "test=pd.read_csv(os.path.join(test_dir,'test.csv'))"
   ]
  },
  {
   "cell_type": "code",
   "execution_count": 149,
   "metadata": {},
   "outputs": [
    {
     "data": {
      "text/html": [
       "<div>\n",
       "<style scoped>\n",
       "    .dataframe tbody tr th:only-of-type {\n",
       "        vertical-align: middle;\n",
       "    }\n",
       "\n",
       "    .dataframe tbody tr th {\n",
       "        vertical-align: top;\n",
       "    }\n",
       "\n",
       "    .dataframe thead th {\n",
       "        text-align: right;\n",
       "    }\n",
       "</style>\n",
       "<table border=\"1\" class=\"dataframe\">\n",
       "  <thead>\n",
       "    <tr style=\"text-align: right;\">\n",
       "      <th></th>\n",
       "      <th>filename</th>\n",
       "    </tr>\n",
       "  </thead>\n",
       "  <tbody>\n",
       "    <tr>\n",
       "      <th>0</th>\n",
       "      <td>49000.png</td>\n",
       "    </tr>\n",
       "    <tr>\n",
       "      <th>1</th>\n",
       "      <td>49001.png</td>\n",
       "    </tr>\n",
       "    <tr>\n",
       "      <th>2</th>\n",
       "      <td>49002.png</td>\n",
       "    </tr>\n",
       "    <tr>\n",
       "      <th>3</th>\n",
       "      <td>49003.png</td>\n",
       "    </tr>\n",
       "    <tr>\n",
       "      <th>4</th>\n",
       "      <td>49004.png</td>\n",
       "    </tr>\n",
       "  </tbody>\n",
       "</table>\n",
       "</div>"
      ],
      "text/plain": [
       "    filename\n",
       "0  49000.png\n",
       "1  49001.png\n",
       "2  49002.png\n",
       "3  49003.png\n",
       "4  49004.png"
      ]
     },
     "execution_count": 149,
     "metadata": {},
     "output_type": "execute_result"
    }
   ],
   "source": [
    "test.head()"
   ]
  },
  {
   "cell_type": "code",
   "execution_count": null,
   "metadata": {},
   "outputs": [],
   "source": []
  },
  {
   "cell_type": "code",
   "execution_count": 150,
   "metadata": {},
   "outputs": [],
   "source": [
    "img_name=rng.choice(train.filename)"
   ]
  },
  {
   "cell_type": "code",
   "execution_count": 151,
   "metadata": {},
   "outputs": [],
   "source": [
    "file_path=os.path.join(train_dir,'Train','Images','train',img_name)"
   ]
  },
  {
   "cell_type": "code",
   "execution_count": 152,
   "metadata": {},
   "outputs": [
    {
     "name": "stderr",
     "output_type": "stream",
     "text": [
      "C:\\Users\\PIYUSH\\Anaconda2\\envs\\tensorflow\\lib\\site-packages\\ipykernel_launcher.py:1: DeprecationWarning: `imread` is deprecated!\n",
      "`imread` is deprecated in SciPy 1.0.0, and will be removed in 1.2.0.\n",
      "Use ``imageio.imread`` instead.\n",
      "  \"\"\"Entry point for launching an IPython kernel.\n"
     ]
    }
   ],
   "source": [
    "img=imread(file_path,flatten=True)"
   ]
  },
  {
   "cell_type": "code",
   "execution_count": 153,
   "metadata": {},
   "outputs": [
    {
     "data": {
      "image/png": "[encoded data removed]",
      "text/plain": [
       "<Figure size 432x288 with 1 Axes>"
      ]
     },
     "metadata": {
      "needs_background": "light"
     },
     "output_type": "display_data"
    }
   ],
   "source": [
    "plt.imshow(img,cmap='gray')\n",
    "plt.axis('off')\n",
    "plt.show()"
   ]
  },
  {
   "cell_type": "code",
   "execution_count": 154,
   "metadata": {},
   "outputs": [],
   "source": [
    "images=[]"
   ]
  },
  {
   "cell_type": "code",
   "execution_count": 155,
   "metadata": {},
   "outputs": [
    {
     "name": "stderr",
     "output_type": "stream",
     "text": [
      "C:\\Users\\PIYUSH\\Anaconda2\\envs\\tensorflow\\lib\\site-packages\\ipykernel_launcher.py:3: DeprecationWarning: `imread` is deprecated!\n",
      "`imread` is deprecated in SciPy 1.0.0, and will be removed in 1.2.0.\n",
      "Use ``imageio.imread`` instead.\n",
      "  This is separate from the ipykernel package so we can avoid doing imports until\n"
     ]
    }
   ],
   "source": [
    "for i in train['filename']:\n",
    "    filepath=os.path.join(train_dir,'Train','Images','train',i)\n",
    "    img=imread(filepath,flatten=True)\n",
    "    img=img.astype('float32')\n",
    "    images.append(img)"
   ]
  },
  {
   "cell_type": "code",
   "execution_count": 156,
   "metadata": {},
   "outputs": [],
   "source": [
    "train_x=np.stack(images)"
   ]
  },
  {
   "cell_type": "code",
   "execution_count": 157,
   "metadata": {},
   "outputs": [],
   "source": [
    "train_x /=255.0"
   ]
  },
  {
   "cell_type": "code",
   "execution_count": 158,
   "metadata": {},
   "outputs": [],
   "source": [
    "train_x=train_x.reshape(-1,784).astype('float32')"
   ]
  },
  {
   "cell_type": "code",
   "execution_count": 159,
   "metadata": {},
   "outputs": [
    {
     "data": {
      "text/plain": [
       "(49000, 784)"
      ]
     },
     "execution_count": 159,
     "metadata": {},
     "output_type": "execute_result"
    }
   ],
   "source": [
    "train_x.shape"
   ]
  },
  {
   "cell_type": "code",
   "execution_count": 160,
   "metadata": {},
   "outputs": [],
   "source": [
    "imgs=[]"
   ]
  },
  {
   "cell_type": "code",
   "execution_count": 161,
   "metadata": {},
   "outputs": [
    {
     "name": "stderr",
     "output_type": "stream",
     "text": [
      "C:\\Users\\PIYUSH\\Anaconda2\\envs\\tensorflow\\lib\\site-packages\\ipykernel_launcher.py:3: DeprecationWarning: `imread` is deprecated!\n",
      "`imread` is deprecated in SciPy 1.0.0, and will be removed in 1.2.0.\n",
      "Use ``imageio.imread`` instead.\n",
      "  This is separate from the ipykernel package so we can avoid doing imports until\n"
     ]
    }
   ],
   "source": [
    "for i in test['filename']:\n",
    "    filepath=os.path.join(test_dir,'Train','Images','test',i)\n",
    "    im=imread(filepath,flatten=True)\n",
    "    im=im.astype('float32')\n",
    "    imgs.append(im)"
   ]
  },
  {
   "cell_type": "code",
   "execution_count": 162,
   "metadata": {},
   "outputs": [],
   "source": [
    "test_x=np.stack(imgs)"
   ]
  },
  {
   "cell_type": "code",
   "execution_count": 163,
   "metadata": {},
   "outputs": [],
   "source": [
    "test_x /=255.0"
   ]
  },
  {
   "cell_type": "code",
   "execution_count": 164,
   "metadata": {},
   "outputs": [],
   "source": [
    "test_x=test_x.reshape(-1,784).astype('float32')"
   ]
  },
  {
   "cell_type": "code",
   "execution_count": 165,
   "metadata": {},
   "outputs": [
    {
     "data": {
      "text/plain": [
       "(21000, 784)"
      ]
     },
     "execution_count": 165,
     "metadata": {},
     "output_type": "execute_result"
    }
   ],
   "source": [
    "test_x.shape"
   ]
  },
  {
   "cell_type": "code",
   "execution_count": 166,
   "metadata": {},
   "outputs": [],
   "source": [
    "train_y=keras.utils.np_utils.to_categorical(train.label.values)"
   ]
  },
  {
   "cell_type": "code",
   "execution_count": 167,
   "metadata": {},
   "outputs": [],
   "source": [
    "# Model building"
   ]
  },
  {
   "cell_type": "code",
   "execution_count": 168,
   "metadata": {},
   "outputs": [],
   "source": [
    "input_num_unit=784\n",
    "hidden_num1=500\n",
    "hidden_num2=500\n",
    "hidden_num3=500\n",
    "hidden_num4=500\n",
    "hidden_num5=500\n",
    "output_num_unit=10\n",
    "epochs=25\n",
    "batch_size=128\n",
    "dropout_ratio=0.2"
   ]
  },
  {
   "cell_type": "code",
   "execution_count": 169,
   "metadata": {},
   "outputs": [],
   "source": [
    "from keras.models import Sequential\n",
    "from keras.layers import Dense,Dropout,InputLayer,Convolution2D,MaxPooling2D,Flatten"
   ]
  },
  {
   "cell_type": "code",
   "execution_count": 170,
   "metadata": {},
   "outputs": [
    {
     "name": "stderr",
     "output_type": "stream",
     "text": [
      "C:\\Users\\PIYUSH\\Anaconda2\\envs\\tensorflow\\lib\\site-packages\\ipykernel_launcher.py:2: UserWarning: Update your `Dense` call to the Keras 2 API: `Dense(input_dim=784, activation=\"relu\", units=500)`\n",
      "  \n",
      "C:\\Users\\PIYUSH\\Anaconda2\\envs\\tensorflow\\lib\\site-packages\\ipykernel_launcher.py:4: UserWarning: Update your `Dense` call to the Keras 2 API: `Dense(input_dim=500, activation=\"relu\", units=500)`\n",
      "  after removing the cwd from sys.path.\n",
      "C:\\Users\\PIYUSH\\Anaconda2\\envs\\tensorflow\\lib\\site-packages\\ipykernel_launcher.py:6: UserWarning: Update your `Dense` call to the Keras 2 API: `Dense(input_dim=500, activation=\"relu\", units=500)`\n",
      "  \n",
      "C:\\Users\\PIYUSH\\Anaconda2\\envs\\tensorflow\\lib\\site-packages\\ipykernel_launcher.py:8: UserWarning: Update your `Dense` call to the Keras 2 API: `Dense(input_dim=500, activation=\"relu\", units=500)`\n",
      "  \n",
      "C:\\Users\\PIYUSH\\Anaconda2\\envs\\tensorflow\\lib\\site-packages\\ipykernel_launcher.py:10: UserWarning: Update your `Dense` call to the Keras 2 API: `Dense(input_dim=500, activation=\"relu\", units=500)`\n",
      "  # Remove the CWD from sys.path while we load stuff.\n",
      "C:\\Users\\PIYUSH\\Anaconda2\\envs\\tensorflow\\lib\\site-packages\\ipykernel_launcher.py:12: UserWarning: Update your `Dense` call to the Keras 2 API: `Dense(input_dim=500, activation=\"softmax\", units=10)`\n",
      "  if sys.path[0] == '':\n"
     ]
    }
   ],
   "source": [
    "model=Sequential([\n",
    "    Dense(output_dim=hidden_num1,input_dim=input_num_unit,activation='relu'),\n",
    "    Dropout(dropout_ratio),\n",
    "    Dense(output_dim=hidden_num2,input_dim=hidden_num1,activation='relu'),\n",
    "    Dropout(dropout_ratio),\n",
    "    Dense(output_dim=hidden_num3,input_dim=hidden_num2,activation='relu'),\n",
    "    Dropout(dropout_ratio),\n",
    "    Dense(output_dim=hidden_num4,input_dim=hidden_num3,activation='relu'),\n",
    "    Dropout(dropout_ratio),\n",
    "    Dense(output_dim=hidden_num5,input_dim=hidden_num4,activation='relu'),\n",
    "    Dropout(dropout_ratio),\n",
    "    Dense(output_dim=output_num_unit,input_dim=hidden_num5,activation='softmax')\n",
    "])"
   ]
  },
  {
   "cell_type": "code",
   "execution_count": 171,
   "metadata": {},
   "outputs": [],
   "source": [
    "model.compile(optimizer='adam',loss=\"categorical_crossentropy\",metrics=['accuracy'])"
   ]
  },
  {
   "cell_type": "code",
   "execution_count": 172,
   "metadata": {},
   "outputs": [
    {
     "name": "stdout",
     "output_type": "stream",
     "text": [
      "Train on 34300 samples, validate on 14700 samples\n",
      "Epoch 1/25\n",
      "34300/34300 [==============================] - 27s 784us/step - loss: 0.3891 - acc: 0.8776 - val_loss: 0.1628 - val_acc: 0.9526\n",
      "Epoch 2/25\n",
      "34300/34300 [==============================] - 20s 597us/step - loss: 0.1596 - acc: 0.9535 - val_loss: 0.1252 - val_acc: 0.9624\n",
      "Epoch 3/25\n",
      "34300/34300 [==============================] - 20s 595us/step - loss: 0.1206 - acc: 0.9645 - val_loss: 0.1239 - val_acc: 0.9639\n",
      "Epoch 4/25\n",
      "34300/34300 [==============================] - 22s 639us/step - loss: 0.0962 - acc: 0.9714 - val_loss: 0.1211 - val_acc: 0.9680\n",
      "Epoch 5/25\n",
      "34300/34300 [==============================] - 20s 587us/step - loss: 0.0805 - acc: 0.9756 - val_loss: 0.1134 - val_acc: 0.9690\n",
      "Epoch 6/25\n",
      "34300/34300 [==============================] - 20s 579us/step - loss: 0.0689 - acc: 0.9784 - val_loss: 0.1090 - val_acc: 0.9718\n",
      "Epoch 7/25\n",
      "34300/34300 [==============================] - 20s 581us/step - loss: 0.0572 - acc: 0.9824 - val_loss: 0.1307 - val_acc: 0.9658\n",
      "Epoch 8/25\n",
      "34300/34300 [==============================] - 22s 631us/step - loss: 0.0582 - acc: 0.9831 - val_loss: 0.0963 - val_acc: 0.9744\n",
      "Epoch 9/25\n",
      "34300/34300 [==============================] - 22s 638us/step - loss: 0.0489 - acc: 0.9853 - val_loss: 0.1039 - val_acc: 0.9735\n",
      "Epoch 10/25\n",
      "34300/34300 [==============================] - 23s 657us/step - loss: 0.0472 - acc: 0.9859 - val_loss: 0.0943 - val_acc: 0.9774\n",
      "Epoch 11/25\n",
      "34300/34300 [==============================] - 20s 594us/step - loss: 0.0459 - acc: 0.9860 - val_loss: 0.1153 - val_acc: 0.9743\n",
      "Epoch 12/25\n",
      "34300/34300 [==============================] - 20s 579us/step - loss: 0.0405 - acc: 0.9878 - val_loss: 0.1286 - val_acc: 0.9744\n",
      "Epoch 13/25\n",
      "34300/34300 [==============================] - 20s 579us/step - loss: 0.0374 - acc: 0.9890 - val_loss: 0.1077 - val_acc: 0.9765\n",
      "Epoch 14/25\n",
      "34300/34300 [==============================] - 20s 584us/step - loss: 0.0336 - acc: 0.9902 - val_loss: 0.1263 - val_acc: 0.9747\n",
      "Epoch 15/25\n",
      "34300/34300 [==============================] - 20s 579us/step - loss: 0.0346 - acc: 0.9901 - val_loss: 0.1158 - val_acc: 0.9748\n",
      "Epoch 16/25\n",
      "34300/34300 [==============================] - 20s 578us/step - loss: 0.0359 - acc: 0.9901 - val_loss: 0.1098 - val_acc: 0.9756\n",
      "Epoch 17/25\n",
      "34300/34300 [==============================] - 20s 579us/step - loss: 0.0251 - acc: 0.9927 - val_loss: 0.1422 - val_acc: 0.9729\n",
      "Epoch 18/25\n",
      "34300/34300 [==============================] - 20s 577us/step - loss: 0.0310 - acc: 0.9910 - val_loss: 0.1171 - val_acc: 0.9760\n",
      "Epoch 19/25\n",
      "34300/34300 [==============================] - 20s 590us/step - loss: 0.0304 - acc: 0.9912 - val_loss: 0.1126 - val_acc: 0.9784\n",
      "Epoch 20/25\n",
      "34300/34300 [==============================] - 21s 613us/step - loss: 0.0294 - acc: 0.9915 - val_loss: 0.1204 - val_acc: 0.9765\n",
      "Epoch 21/25\n",
      "34300/34300 [==============================] - 21s 622us/step - loss: 0.0281 - acc: 0.9917 - val_loss: 0.1323 - val_acc: 0.9757\n",
      "Epoch 22/25\n",
      "34300/34300 [==============================] - 21s 613us/step - loss: 0.0247 - acc: 0.9925 - val_loss: 0.1154 - val_acc: 0.9779\n",
      "Epoch 23/25\n",
      "34300/34300 [==============================] - 21s 626us/step - loss: 0.0224 - acc: 0.9935 - val_loss: 0.1215 - val_acc: 0.9771\n",
      "Epoch 24/25\n",
      "34300/34300 [==============================] - 22s 635us/step - loss: 0.0211 - acc: 0.9943 - val_loss: 0.1596 - val_acc: 0.9743\n",
      "Epoch 25/25\n",
      "34300/34300 [==============================] - 22s 634us/step - loss: 0.0300 - acc: 0.9919 - val_loss: 0.1197 - val_acc: 0.9773\n"
     ]
    },
    {
     "data": {
      "text/plain": [
       "<keras.callbacks.History at 0x237807e54e0>"
      ]
     },
     "execution_count": 172,
     "metadata": {},
     "output_type": "execute_result"
    }
   ],
   "source": [
    "model.fit(train_x,train_y,epochs=epochs,batch_size=batch_size,validation_split=0.3)"
   ]
  },
  {
   "cell_type": "code",
   "execution_count": 173,
   "metadata": {},
   "outputs": [],
   "source": [
    "pred=model.predict_classes(test_x,batch_size=128)"
   ]
  },
  {
   "cell_type": "code",
   "execution_count": 174,
   "metadata": {},
   "outputs": [],
   "source": [
    "img_name=rng.choice(test.filename)"
   ]
  },
  {
   "cell_type": "code",
   "execution_count": 175,
   "metadata": {},
   "outputs": [],
   "source": [
    "filepath=os.path.join(test_dir,'Train','Images','test',img_name)"
   ]
  },
  {
   "cell_type": "code",
   "execution_count": 176,
   "metadata": {},
   "outputs": [
    {
     "name": "stderr",
     "output_type": "stream",
     "text": [
      "C:\\Users\\PIYUSH\\Anaconda2\\envs\\tensorflow\\lib\\site-packages\\ipykernel_launcher.py:1: DeprecationWarning: `imread` is deprecated!\n",
      "`imread` is deprecated in SciPy 1.0.0, and will be removed in 1.2.0.\n",
      "Use ``imageio.imread`` instead.\n",
      "  \"\"\"Entry point for launching an IPython kernel.\n"
     ]
    }
   ],
   "source": [
    "imm=imread(filepath,flatten=True)"
   ]
  },
  {
   "cell_type": "code",
   "execution_count": 177,
   "metadata": {},
   "outputs": [],
   "source": [
    "test_index=int(img_name.split('.')[0])-train.shape[0]"
   ]
  },
  {
   "cell_type": "code",
   "execution_count": 178,
   "metadata": {},
   "outputs": [
    {
     "data": {
      "image/png": "[encoded data removed]",
      "text/plain": [
       "<Figure size 432x288 with 1 Axes>"
      ]
     },
     "metadata": {
      "needs_background": "light"
     },
     "output_type": "display_data"
    }
   ],
   "source": [
    "plt.imshow(imm,cmap='gray')\n",
    "plt.axis('off')\n",
    "plt.show()"
   ]
  },
  {
   "cell_type": "code",
   "execution_count": 179,
   "metadata": {},
   "outputs": [
    {
     "data": {
      "text/plain": [
       "('Prediction is ', 9)"
      ]
     },
     "execution_count": 179,
     "metadata": {},
     "output_type": "execute_result"
    }
   ],
   "source": [
    "'Prediction is ',pred[test_index]"
   ]
  },
  {
   "cell_type": "code",
   "execution_count": 180,
   "metadata": {},
   "outputs": [],
   "source": [
    "sub.filename=test.filename\n",
    "sub.label=pred"
   ]
  },
  {
   "cell_type": "code",
   "execution_count": 181,
   "metadata": {},
   "outputs": [],
   "source": [
    "sub.to_csv(os.path.join(sub_dir,'sub005.csv'),index=False)"
   ]
  },
  {
   "cell_type": "code",
   "execution_count": 182,
   "metadata": {},
   "outputs": [
    {
     "name": "stdout",
     "output_type": "stream",
     "text": [
      "_________________________________________________________________\n",
      "Layer (type)                 Output Shape              Param #   \n",
      "=================================================================\n",
      "dense_25 (Dense)             (None, 500)               392500    \n",
      "_________________________________________________________________\n",
      "dropout_16 (Dropout)         (None, 500)               0         \n",
      "_________________________________________________________________\n",
      "dense_26 (Dense)             (None, 500)               250500    \n",
      "_________________________________________________________________\n",
      "dropout_17 (Dropout)         (None, 500)               0         \n",
      "_________________________________________________________________\n",
      "dense_27 (Dense)             (None, 500)               250500    \n",
      "_________________________________________________________________\n",
      "dropout_18 (Dropout)         (None, 500)               0         \n",
      "_________________________________________________________________\n",
      "dense_28 (Dense)             (None, 500)               250500    \n",
      "_________________________________________________________________\n",
      "dropout_19 (Dropout)         (None, 500)               0         \n",
      "_________________________________________________________________\n",
      "dense_29 (Dense)             (None, 500)               250500    \n",
      "_________________________________________________________________\n",
      "dropout_20 (Dropout)         (None, 500)               0         \n",
      "_________________________________________________________________\n",
      "dense_30 (Dense)             (None, 10)                5010      \n",
      "=================================================================\n",
      "Total params: 1,399,510\n",
      "Trainable params: 1,399,510\n",
      "Non-trainable params: 0\n",
      "_________________________________________________________________\n"
     ]
    }
   ],
   "source": [
    "model.summary()"
   ]
  },
  {
   "cell_type": "code",
   "execution_count": null,
   "metadata": {},
   "outputs": [],
   "source": []
  }
 ],
 "metadata": {
  "kernelspec": {
   "display_name": "Python 3",
   "language": "python",
   "name": "python3"
  },
  "language_info": {
   "codemirror_mode": {
    "name": "ipython",
    "version": 3
   },
   "file_extension": ".py",
   "mimetype": "text/x-python",
   "name": "python",
   "nbconvert_exporter": "python",
   "pygments_lexer": "ipython3",
   "version": "3.6.6"
  }
 },
 "nbformat": 4,
 "nbformat_minor": 2
}
